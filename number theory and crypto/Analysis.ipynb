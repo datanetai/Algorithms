{
 "cells": [
  {
   "cell_type": "markdown",
   "metadata": {},
   "source": [
    "\n",
    "### Complexity of `prime_factors`\n",
    "\n",
    "The `prime_factors` function uses two loops: an outer loop that increments the divisor `d`, and an inner loop that divides `n` by `d` as long as `n % d == 0`.\n",
    "\n",
    "1. The outer loop starts with $$d = 2$$ and goes up to $$n$$.\n",
    "2. The inner while loop will divide $$n$$ by $$d$$ as long as $$n \\% d == 0$$.\n",
    "\n",
    "The trick here is that the inner loop reduces $$n$$ drastically whenever it finds a divisor. For example, if $$n = 8$$, then $$d = 2$$ divides it 3 times, reducing $$n$$ to 1. This means the outer loop doesn't have to go all the way up to $$n$$; it will often terminate early.\n",
    "\n",
    "It's difficult to define an exact complexity for this, but as a rough upper bound, we can consider that there are $$O(\\log n)$$ factors for $$n$$ and that we could check up to $$n$$ numbers to find those. Hence, the complexity could be approximated as $$O(n \\log n)$$.\n",
    "\n",
    "However, the function usually terminates much earlier, and the time complexity is generally considered to be $$O(n \\log \\log n)$$, especially when considering that we only need to check prime divisors.\n",
    "\n",
    "### Complexity of `sieve`\n",
    "\n",
    "The sieve of Eratosthenes algorithm works by iteratively marking the multiples of each prime number starting from 2. Let's consider how many operations are performed:\n",
    "\n",
    "1. For $$p = 2$$, we mark off $$2, 4, 6, 8, \\ldots, n$$, performing approximately $$n/2$$ operations.\n",
    "2. For $$p = 3$$, we mark off $$3, 6, 9, \\ldots, n$$, performing approximately $$n/3$$ operations.\n",
    "3. For $$p = 4$$, we don't do anything because 4 is not a prime (it was marked off during the $$p=2$$ step).\n",
    "4. For $$p = 5$$, we mark off $$5, 10, 15, \\ldots, n$$, performing approximately $$n/5$$ operations.\n",
    "\n",
    "And so on.\n",
    "\n",
    "The total number of operations is then:\n",
    "\n",
    "$$\n",
    "\\frac{n}{2} + \\frac{n}{3} + \\frac{n}{5} + \\frac{n}{7} + \\ldots\n",
    "$$\n",
    "\n",
    "Factoring out $$n$$, we get:\n",
    "\n",
    "$$\n",
    "n \\left( \\frac{1}{2} + \\frac{1}{3} + \\frac{1}{5} + \\frac{1}{7} + \\ldots \\right)\n",
    "$$\n",
    "\n",
    "The series in the parentheses is the sum of the reciprocals of the prime numbers, and it's known to be $$O(\\log \\log n)$$. This can be proven using number theory, particularly through the use of the Prime Number Theorem, which states that the number of primes less than $$n$$ is approximately $$n/\\log(n)$$.\n",
    "\n",
    "Thus, the overall complexity of the `sieve` function is $$O(n \\log \\log n)$$."
   ]
  }
 ],
 "metadata": {
  "language_info": {
   "name": "python"
  }
 },
 "nbformat": 4,
 "nbformat_minor": 2
}
